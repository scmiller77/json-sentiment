{
 "cells": [
  {
   "cell_type": "markdown",
   "metadata": {},
   "source": [
    "# Web Mining and Applied NLP (44-620)\n",
    "\n",
    "## Requests, JSON, and NLP\n",
    "\n",
    "### Student Name: Stephen Miller https://github.com/scmiller77 \n",
    "\n",
    "Perform the tasks described in the Markdown cells below.  When you have completed the assignment make sure your code cells have all been run (and have output beneath them) and ensure you have committed and pushed ALL of your changes to your assignment repository.\n",
    "\n",
    "Make sure you have [installed spaCy and its pipeline](https://spacy.io/usage#quickstart) and [spaCyTextBlob](https://spacy.io/universe/project/spacy-textblob)\n",
    "\n",
    "Every question that requires you to write code will have a code cell underneath it; you may either write your entire solution in that cell or write it in a python file (`.py`), then import and run the appropriate code to answer the question.\n",
    "\n",
    "This assignment requires that you write additional files (either JSON or pickle files); make sure to submit those files in your repository as well."
   ]
  },
  {
   "cell_type": "markdown",
   "metadata": {},
   "source": [
    "1. The following code accesses the [lyrics.ovh](https://lyricsovh.docs.apiary.io/#reference/0/lyrics-of-a-song/search) public api, searches for the lyrics of a song, and stores it in a dictionary object.  Write the resulting json to a file (either a JSON file or a pickle file; you choose). You will read in the contents of this file for future questions so we do not need to frequently access the API."
   ]
  },
  {
   "cell_type": "code",
   "execution_count": 58,
   "metadata": {},
   "outputs": [],
   "source": [
    "# Create and activate a Python virtual environment. \n",
    "# Before starting the project, try all these imports FIRST\n",
    "# Address any errors you get running this code cell \n",
    "# by installing the necessary packages into your active Python environment.\n",
    "# Try to resolve issues using your materials and the web.\n",
    "# If that doesn't work, ask for help in the discussion forums.\n",
    "# You can't complete the exercises until you import these - start early! \n",
    "# We also import json and pickle (included in the Python Standard Library).\n",
    "\n",
    "import json\n",
    "import pickle\n",
    "\n",
    "import requests\n",
    "import spacy\n",
    "from spacytextblob.spacytextblob import SpacyTextBlob\n",
    "\n",
    "result = json.loads(requests.get('https://api.lyrics.ovh/v1/Johnny Cash/Hurt').text)\n",
    "\n",
    "#Dump song lyrics into json file\n",
    "with open('song_lyrics.json', 'w') as json_file:\n",
    "    json.dump(result, json_file)\n",
    "\n",
    "#open json file to use lyrics\n",
    "with open('song_lyrics.json', 'r') as json_file:\n",
    "    data = json.load(json_file)\n"
   ]
  },
  {
   "cell_type": "markdown",
   "metadata": {},
   "source": [
    "2. Read in the contents of your file.  Print the lyrics of the song (not the entire dictionary!) and use spaCyTextBlob to perform sentiment analysis on the lyrics.  Print the polarity score of the sentiment analysis.  Given that the range of the polarity score is `[-1.0,1.0]` which corresponds to how positive or negative the text in question is, do you think the lyrics have a more positive or negative connotaion?  Answer this question in a comment in your code cell."
   ]
  },
  {
   "cell_type": "code",
   "execution_count": 59,
   "metadata": {},
   "outputs": [
    {
     "name": "stdout",
     "output_type": "stream",
     "text": [
      "I hurt myself today\n",
      "To see if I still feel\n",
      "I focus on the pain\n",
      "The only thing that's real\n",
      "The needle tears a hole\n",
      "The old familiar sting\n",
      "\n",
      "Try to kill it all away\n",
      "\n",
      "But I remember everything\n",
      "\n",
      "\n",
      "\n",
      "What have I become\n",
      "\n",
      "My sweetest friend\n",
      "\n",
      "Everyone I know \n",
      "\n",
      "Goes away in the end\n",
      "\n",
      "And you could have it all\n",
      "\n",
      "My empire of dirt\n",
      "\n",
      "I will let you down\n",
      "\n",
      "I will make you hurt\n",
      "\n",
      "\n",
      "\n",
      "I wear this crown of thorns\n",
      "\n",
      "Upon my liar's chair\n",
      "\n",
      "Full of broken thoughts\n",
      "\n",
      "I cannot repair\n",
      "\n",
      "Beneath the stains of time\n",
      "\n",
      "The feelings disappear\n",
      "\n",
      "You are someone else\n",
      "\n",
      "I am still right here\n",
      "\n",
      "\n",
      "\n",
      "What have I become\n",
      "\n",
      "My sweetest friend\n",
      "\n",
      "Everyone I know \n",
      "\n",
      "Goes away in the end\n",
      "\n",
      "And you could have it all\n",
      "\n",
      "My empire of dirt\n",
      "\n",
      "I will let you down\n",
      "\n",
      "I will make you hurt\n",
      "\n",
      "\n",
      "\n",
      "If I could start again\n",
      "\n",
      "A million miles away\n",
      "\n",
      "I would keep myself\n",
      "\n",
      "I would find a way\n",
      "Polarity Score: 0.06662257495590829\n"
     ]
    }
   ],
   "source": [
    "#strip lyrics from data\n",
    "lyrics = data.get('lyrics', '')\n",
    "print(lyrics)\n",
    "\n",
    "#make our NLP connection\n",
    "nlp = spacy.load(\"en_core_web_sm\")\n",
    "nlp.add_pipe(\"spacytextblob\")\n",
    "\n",
    "#use NLP to check polarity\n",
    "doc = nlp(lyrics)\n",
    "polarity = doc._.blob.polarity\n",
    "\n",
    "print(\"Polarity Score:\", polarity)"
   ]
  },
  {
   "cell_type": "markdown",
   "metadata": {},
   "source": [
    "## Follow-up analysis:\n",
    "I would assume Hurt would have a negative polarity score, but it doesn't. If I had to guess, the lyrics like \"My empire...\", \"I would find a way\", \"My sweetest friend\" are positive without the context of the rest of the song. All together, however, it should definitely be a negative polarity score."
   ]
  },
  {
   "cell_type": "markdown",
   "metadata": {},
   "source": [
    "3. Write a function that takes an artist, song, and filename, accesses the lyrics.ovh api to get the song lyrics, and writes the results to the specified filename.  Test this function by getting the lyrics to any four songs of your choice and storing them in different files."
   ]
  },
  {
   "cell_type": "code",
   "execution_count": 62,
   "metadata": {},
   "outputs": [
    {
     "name": "stdout",
     "output_type": "stream",
     "text": [
      "Lyrics for 'Hurt' by Johnny Cash have been saved to 'song1.json'.\n",
      "Lyrics for 'Happy' by Pharrell Williams have been saved to 'song2.json'.\n",
      "Lyrics for 'Last Resort' by Papa Roach have been saved to 'song3.json'.\n",
      "Lyrics for 'Stay' by Sugarland have been saved to 'song4.json'.\n"
     ]
    }
   ],
   "source": [
    "def write_song_from_api_to_json(artist, song, filename):\n",
    "\n",
    "    # Format the API request URL\n",
    "    url = f'https://api.lyrics.ovh/v1/{artist}/{song}'\n",
    "    \n",
    "    # Make the API request\n",
    "    response = requests.get(url)\n",
    "    \n",
    "    # Check if the response is successful\n",
    "    if response.status_code == 200:\n",
    "        result = json.loads(response.text)\n",
    "        \n",
    "        # Write the result to the specified file\n",
    "        with open(filename, 'w') as file:\n",
    "            json.dump(result, file, indent=4)\n",
    "        \n",
    "        print(f\"Lyrics for '{song}' by {artist} have been saved to '{filename}'.\")\n",
    "    else:\n",
    "        print(f\"Failed to fetch lyrics for '{song}' by {artist}. HTTP Status Code: {response.status_code}\")\n",
    "\n",
    "\n",
    "# Test the function with four different songs\n",
    "write_song_from_api_to_json(\"Johnny Cash\", \"Hurt\", \"song1.json\") #I'm naming the files song1, etc., so we can shift songs \n",
    "write_song_from_api_to_json(\"Pharrell Williams\", \"Happy\", \"song2.json\") #easier without requiring changing the file names\n",
    "write_song_from_api_to_json(\"Papa Roach\", \"Last Resort\", \"song3.json\")\n",
    "write_song_from_api_to_json(\"Sugarland\", \"Stay\", \"song4.json\")"
   ]
  },
  {
   "cell_type": "markdown",
   "metadata": {},
   "source": [
    "4. Write a function that takes the name of a file that contains song lyrics, loads the file, performs sentiment analysis, and returns the polarity score.  Use this function to print the polarity scores (with the name of the song) of the three files you created in question 3.  Does the reported polarity match your understanding of the song's lyrics? Why or why not do you think that might be?  Answer the questions in either a comment in the code cell or a markdown cell under the code cell."
   ]
  },
  {
   "cell_type": "code",
   "execution_count": 63,
   "metadata": {},
   "outputs": [
    {
     "name": "stdout",
     "output_type": "stream",
     "text": [
      "Polarity Score for 'song1.json': 0.06662257495590829\n",
      "Polarity Score for 'song2.json': 0.49032258064516154\n",
      "Polarity Score for 'song3.json': -0.007370721726190476\n",
      "Polarity Score for 'song4.json': 0.045564339042599905\n"
     ]
    }
   ],
   "source": [
    "def analyze_polarity_of_song_from_json(filename):\n",
    "\n",
    "\n",
    "    # Load the lyrics data from the file\n",
    "    with open(filename, 'r') as file:\n",
    "        data = json.load(file)\n",
    "\n",
    "    # Extract lyrics from the data\n",
    "    lyrics = data.get('lyrics', '')\n",
    "\n",
    "    # Perform sentiment analysis if lyrics are available\n",
    "\n",
    "    doc = nlp(lyrics)\n",
    "    polarity = doc._.blob.polarity\n",
    "    return (filename, polarity)\n",
    "\n",
    "\n",
    "\n",
    "\n",
    "# Analyze the sentiment of the lyrics in the three files created earlier\n",
    "results = []\n",
    "results.append(analyze_polarity_of_song_from_json(\"song1.json\"))  \n",
    "results.append(analyze_polarity_of_song_from_json(\"song2.json\"))  \n",
    "results.append(analyze_polarity_of_song_from_json(\"song3.json\"))  \n",
    "results.append(analyze_polarity_of_song_from_json(\"song4.json\"))  \n",
    "\n",
    "# Print the polarity scores with the song names\n",
    "for filename, polarity in results:\n",
    "    print(f\"Polarity Score for '{filename}': {polarity}\")\n"
   ]
  },
  {
   "cell_type": "markdown",
   "metadata": {},
   "source": [
    "## Final analysis\n",
    "I don't feel the polarity NLP function does a good job of capturing the sentiment of the songs. I picked one obviously happy song, in \"Happy\", and it captured that accurately. However, the other three songs I chose are more somber, if not overtly depressing, yet only one of them got a negative score. On top of that, the score was only barely negative."
   ]
  }
 ],
 "metadata": {
  "kernelspec": {
   "display_name": ".venv",
   "language": "python",
   "name": "python3"
  },
  "language_info": {
   "codemirror_mode": {
    "name": "ipython",
    "version": 3
   },
   "file_extension": ".py",
   "mimetype": "text/x-python",
   "name": "python",
   "nbconvert_exporter": "python",
   "pygments_lexer": "ipython3",
   "version": "3.12.4"
  }
 },
 "nbformat": 4,
 "nbformat_minor": 4
}
